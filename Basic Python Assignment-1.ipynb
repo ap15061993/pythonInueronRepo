{
 "cells": [
  {
   "cell_type": "raw",
   "id": "e7442438",
   "metadata": {},
   "source": [
    "1. In the below elements which of them are values or an expression? eg:- values can be integer or string and expressions will be mathematical operators.\n",
    "\n",
    "Ans-\n",
    "\n",
    "* -->  Expression\n",
    "'hello' --> value\n",
    "-87.8 -->value\n",
    "-  --> Expression\n",
    "/  -->Expression\n",
    "+  -->Expression\n",
    "6  --> value\n"
   ]
  },
  {
   "cell_type": "raw",
   "id": "3fa19e51",
   "metadata": {},
   "source": [
    "2. What is the difference between string and variable?\n",
    "Ans-\n",
    "\n",
    "Variable are used to store the data. That can be of any type like int,float,str,complex etc..\n",
    "String is a collection characters which is enclosed in single quotes or double quotes, like 'amit' or \"Amir\"\n"
   ]
  },
  {
   "cell_type": "raw",
   "id": "1a4d66ab",
   "metadata": {},
   "source": [
    "3. Describe three different data types.\n",
    "\n",
    "Ans-Python is a dynamically typed language and data types represent which type of data is available in a variable.\n",
    "Python's 3 data types\n",
    "\n",
    "1.Int->We can use int data type to represent whole numbers (integral values).\n",
    "eg.  a=10 ,b=-10\n",
    "\n",
    "2.float data type--\n",
    "We can use float data type to represent floating point values (decimal values)\n",
    "eg   a=5.225\n",
    "\n",
    "3.bool data type-\n",
    "We can use this data type to represent boolean values.\n",
    "The only allowed values for this data type are: True or False\n",
    "Internally Python represents True as 1 and False as 0\n",
    "\n"
   ]
  },
  {
   "cell_type": "raw",
   "id": "13b019a0",
   "metadata": {},
   "source": [
    "4. What is an expression made up of? What do all expressions do?\n",
    "\n",
    "An Expression is a combination of value ,variable and operator .It can be used to used to solve a problem.\n",
    "eg a=10+5,\n",
    "b,c=10,5\n",
    "d=b+c\n",
    "\n"
   ]
  },
  {
   "cell_type": "raw",
   "id": "6dec748c",
   "metadata": {},
   "source": [
    "5. This assignment statements, like spam = 10. What is the difference between an expression and a statement?\n",
    "\n",
    "Ans-\n",
    "As we have spam=10 , here we are assigning value into spam variable.\n",
    "\n",
    "A Expression is a combination of values, operators and literals which yields something.Ex a=5+5\n",
    "A Statement is a action or a command that does something  Ex: If-Else,Loops..etc"
   ]
  },
  {
   "cell_type": "code",
   "execution_count": 9,
   "id": "fe23ca00",
   "metadata": {},
   "outputs": [
    {
     "name": "stdout",
     "output_type": "stream",
     "text": [
      "Object `contain` not found.\n"
     ]
    },
    {
     "data": {
      "text/plain": [
       "23"
      ]
     },
     "execution_count": 9,
     "metadata": {},
     "output_type": "execute_result"
    }
   ],
   "source": [
    "6. After running the following code, what does the variable bacon contain?\n",
    "bacon = 22\n",
    "bacon + 1\n",
    "\n",
    "\n",
    "Ans 23"
   ]
  },
  {
   "cell_type": "raw",
   "id": "dc475b5e",
   "metadata": {},
   "source": [
    "7. What should the values of the following two terms be?\n",
    "'spam' + 'spamspam'  -->spamspamspam\n",
    "\n",
    "'spam' * 3  -->spamspamspam\n",
    "\n"
   ]
  },
  {
   "cell_type": "raw",
   "id": "3768b979",
   "metadata": {},
   "source": [
    "8. Why is eggs a valid variable name while 100 is invalid?\n",
    "\n",
    "Ans-there are some certaiul rules to define a variable in python \n",
    "alphabet symbols(either lower case or upper case) \n",
    "digits(0 to 9) \n",
    "underscore symbol(_)\n",
    "Identifier should not starts with digit\n",
    "Identifiers are case sensitive."
   ]
  },
  {
   "cell_type": "raw",
   "id": "1498bd27",
   "metadata": {},
   "source": [
    "9. What three functions can be used to get the integer, floating-point number, or string version of a value?\n",
    "\n",
    "Ans-int(),float(),str()"
   ]
  },
  {
   "cell_type": "raw",
   "id": "2bb06917",
   "metadata": {},
   "source": [
    "10. Why does this expression cause an error? How can you fix it?\n",
    "ans -'I have eaten ' + '99' + ' burritos.'\n"
   ]
  },
  {
   "cell_type": "raw",
   "id": "c5e2d902",
   "metadata": {},
   "source": [
    "10. Why does this expression cause an error? How can you fix it?\n",
    "\n",
    "Ans - this expression was showing error because we are trying to concetenate int value to str."
   ]
  },
  {
   "cell_type": "code",
   "execution_count": null,
   "id": "52caefe8",
   "metadata": {},
   "outputs": [],
   "source": []
  }
 ],
 "metadata": {
  "kernelspec": {
   "display_name": "Python 3 (ipykernel)",
   "language": "python",
   "name": "python3"
  },
  "language_info": {
   "codemirror_mode": {
    "name": "ipython",
    "version": 3
   },
   "file_extension": ".py",
   "mimetype": "text/x-python",
   "name": "python",
   "nbconvert_exporter": "python",
   "pygments_lexer": "ipython3",
   "version": "3.9.13"
  }
 },
 "nbformat": 4,
 "nbformat_minor": 5
}
